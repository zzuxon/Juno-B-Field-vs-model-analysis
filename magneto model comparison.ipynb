{
 "cells": [
  {
   "cell_type": "code",
   "execution_count": 1,
   "metadata": {
    "collapsed": true
   },
   "outputs": [],
   "source": [
    "import numpy as np\n",
    "import matplotlib.pyplot as plt"
   ]
  },
  {
   "cell_type": "code",
   "execution_count": 11,
   "metadata": {
    "collapsed": false
   },
   "outputs": [
    {
     "name": "stdout",
     "output_type": "stream",
     "text": [
      "114\n"
     ]
    }
   ],
   "source": [
    "skipcount = 0\n",
    "with open('fgm_jno_l3_2018039pc_r1s_v01.sts') as f:\n",
    "    for line in f:\n",
    "        if line[0:4] != '  20':\n",
    "            skipcount = skipcount + 1\n",
    "        else:\n",
    "            break\n",
    "print skipcount\n",
    "# the skipcounter returns once again."
   ]
  },
  {
   "cell_type": "code",
   "execution_count": 2,
   "metadata": {
    "collapsed": false
   },
   "outputs": [
    {
     "name": "stdout",
     "output_type": "stream",
     "text": [
      "16024\n"
     ]
    }
   ],
   "source": [
    "doy035, x035, y035, z035 = np.loadtxt('fgm_jno_l3_2018035pc_r1s_v01.sts', skiprows = 115, usecols = (6, 11, 12, 13), unpack = True)\n",
    "br035, btheta035, bphi035 = np.loadtxt('035magrtp.csv', delimiter = ',', usecols = (0, 1, 2), unpack = True)\n",
    "#As can be seen, the time and position data are read in from the original file, while the magnetic field components are read in from \n",
    "#the magnetic file you just made in IDL.\n",
    "\n",
    "\n",
    "r035 = np.sqrt(x035**2 + y035**2 + z035**2)\n",
    "rjup035 = r035 / 71492.0\n",
    "theta035 = np.arccos(z035/r035) * (360 / (2*np.pi))\n",
    "phi035 = np.arctan2(y035,x035) * (360 / (2*np.pi)) \n",
    "bmag035 = np.sqrt(br035**2 + btheta035**2 + bphi035**2)\n",
    "\n",
    "for i in range(len(phi035)):\n",
    "    if phi035[i] < 0.0:\n",
    "        phi035[i] = phi035[i] + 360.0\n",
    "#This segment converts the positions into rtp, finds r in rJ, and finds the magnitude data or the b-field.\n",
    "        \n",
    "ind035 = np.where(rjup035 <= 40.0)\n",
    "\n",
    "rjup035n = np.ones(len(ind035[0]))\n",
    "theta035n = np.ones(len(ind035[0]))\n",
    "phi035n = np.ones(len(ind035[0]))\n",
    "doy035n = np.ones(len(ind035[0]))\n",
    "bmag035n = np.ones(len(ind035[0]))\n",
    "br035n = np.ones(len(ind035[0]))\n",
    "btheta035n = np.ones(len(ind035[0]))\n",
    "bphi035n = np.ones(len(ind035[0]))\n",
    "\n",
    "\n",
    "for i in range(len(ind035[0])):\n",
    "    rjup035n[i] = rjup035[ind035[0][i]]\n",
    "    theta035n[i] = theta035[ind035[0][i]]\n",
    "    phi035n[i] = phi035[ind035[0][i]]\n",
    "    doy035n[i] = doy035[ind035[0][i]]\n",
    "    bmag035n[i] = bmag035[ind035[0][i]]\n",
    "    br035n[i] = br035[ind035[0][i]]\n",
    "    btheta035n[i] = btheta035[ind035[0][i]]\n",
    "    bphi035n[i] = bphi035[ind035[0][i]]\n",
    "#arrays including only those data points within 40rJ are created.\n",
    "\n",
    "\n",
    "print len(phi035n) #This gives you the number of relevant points.\n",
    "\n",
    "modbmag035, modbr035, modbtheta035, modbphi035 = np.loadtxt('035JRM09magB.csv', skiprows = 0, delimiter = ',', usecols = (0, 1, 2, 3), unpack = True)\n",
    "#Now the model's predictions for the b-field are read in, from the model file made in IDL."
   ]
  },
  {
   "cell_type": "code",
   "execution_count": 3,
   "metadata": {
    "collapsed": false
   },
   "outputs": [
    {
     "name": "stdout",
     "output_type": "stream",
     "text": [
      "85875\n"
     ]
    }
   ],
   "source": [
    "doy036, x036, y036, z036 = np.loadtxt('fgm_jno_l3_2018036pc_r1s_v01.sts', skiprows = 115, usecols = (6, 11, 12, 13), unpack = True)\n",
    "br036, btheta036, bphi036 = np.loadtxt('036magrtp.csv', delimiter = ',', usecols = (0, 1, 2), unpack = True)\n",
    "\n",
    "#repeat the above process for each relevant data set picked out using the less than 40 finder.\n",
    "\n",
    "r036 = np.sqrt(x036**2 + y036**2 + z036**2)\n",
    "rjup036 = r036 / 71492.0\n",
    "theta036 = np.arccos(z036/r036) * (360 / (2*np.pi))\n",
    "phi036 = np.arctan2(y036,x036) * (360 / (2*np.pi)) \n",
    "bmag036 = np.sqrt(br036**2 + btheta036**2 + bphi036**2)\n",
    "\n",
    "for i in range(len(phi036)):\n",
    "    if phi036[i] < 0.0:\n",
    "        phi036[i] = phi036[i] + 360.0\n",
    "        \n",
    "ind036 = np.where(rjup036 <= 40.0)\n",
    "\n",
    "rjup036n = np.ones(len(ind036[0]))\n",
    "theta036n = np.ones(len(ind036[0]))\n",
    "phi036n = np.ones(len(ind036[0]))\n",
    "doy036n = np.ones(len(ind036[0]))\n",
    "bmag036n = np.ones(len(ind036[0]))\n",
    "br036n = np.ones(len(ind036[0]))\n",
    "btheta036n = np.ones(len(ind036[0]))\n",
    "bphi036n = np.ones(len(ind036[0]))\n",
    "\n",
    "\n",
    "for i in range(len(ind036[0])):\n",
    "    rjup036n[i] = rjup036[ind036[0][i]]\n",
    "    theta036n[i] = theta036[ind036[0][i]]\n",
    "    phi036n[i] = phi036[ind036[0][i]]\n",
    "    doy036n[i] = doy036[ind036[0][i]]\n",
    "    bmag036n[i] = bmag036[ind036[0][i]]\n",
    "    br036n[i] = br036[ind036[0][i]]\n",
    "    btheta036n[i] = btheta036[ind036[0][i]]\n",
    "    bphi036n[i] = bphi036[ind036[0][i]]\n",
    "    \n",
    "print len(phi036n)\n",
    "\n",
    "modbmag036, modbr036, modbtheta036, modbphi036 = np.loadtxt('036JRM09magB.csv', skiprows = 0, delimiter = ',', usecols = (0, 1, 2, 3), unpack = True)"
   ]
  },
  {
   "cell_type": "code",
   "execution_count": 4,
   "metadata": {
    "collapsed": false
   },
   "outputs": [
    {
     "name": "stdout",
     "output_type": "stream",
     "text": [
      "86399\n"
     ]
    }
   ],
   "source": [
    "doy037, x037, y037, z037 = np.loadtxt('fgm_jno_l3_2018037pc_r1s_v01.sts', skiprows = 115, usecols = (6, 11, 12, 13), unpack = True)\n",
    "br037, btheta037, bphi037 = np.loadtxt('037magrtp.csv', delimiter = ',', usecols = (0, 1, 2), unpack = True)\n",
    "\n",
    "\n",
    "r037 = np.sqrt(x037**2 + y037**2 + z037**2)\n",
    "rjup037 = r037 / 71492.0\n",
    "theta037 = np.arccos(z037/r037) * (360 / (2*np.pi))\n",
    "phi037 = np.arctan2(y037,x037) * (360 / (2*np.pi)) \n",
    "bmag037 = np.sqrt(br037**2 + btheta037**2 + bphi037**2)\n",
    "\n",
    "for i in range(len(phi037)):\n",
    "    if phi037[i] < 0.0:\n",
    "        phi037[i] = phi037[i] + 360.0\n",
    "        \n",
    "ind037 = np.where(rjup037 <= 40.0)\n",
    "\n",
    "rjup037n = np.ones(len(ind037[0]))\n",
    "theta037n = np.ones(len(ind037[0]))\n",
    "phi037n = np.ones(len(ind037[0]))\n",
    "doy037n = np.ones(len(ind037[0]))\n",
    "bmag037n = np.ones(len(ind037[0]))\n",
    "br037n = np.ones(len(ind037[0]))\n",
    "btheta037n = np.ones(len(ind037[0]))\n",
    "bphi037n = np.ones(len(ind037[0]))\n",
    "\n",
    "\n",
    "for i in range(len(ind037[0])):\n",
    "    rjup037n[i] = rjup037[ind037[0][i]]\n",
    "    theta037n[i] = theta037[ind037[0][i]]\n",
    "    phi037n[i] = phi037[ind037[0][i]]\n",
    "    doy037n[i] = doy037[ind037[0][i]]\n",
    "    bmag037n[i] = bmag037[ind037[0][i]]\n",
    "    br037n[i] = br037[ind037[0][i]]\n",
    "    btheta037n[i] = btheta037[ind037[0][i]]\n",
    "    bphi037n[i] = bphi037[ind037[0][i]]\n",
    "    \n",
    "print len(phi037n)\n",
    "\n",
    "modbmag037, modbr037, modbtheta037, modbphi037 = np.loadtxt('037JRM09magB.csv', skiprows = 0, delimiter = ',', usecols = (0, 1, 2, 3), unpack = True)"
   ]
  },
  {
   "cell_type": "code",
   "execution_count": 5,
   "metadata": {
    "collapsed": false
   },
   "outputs": [
    {
     "name": "stdout",
     "output_type": "stream",
     "text": [
      "86158\n"
     ]
    }
   ],
   "source": [
    "doy039, x039, y039, z039 = np.loadtxt('fgm_jno_l3_2018039pc_r1s_v01.sts', skiprows = 114, usecols = (6, 11, 12, 13), unpack = True)\n",
    "br039, btheta039, bphi039 = np.loadtxt('039magrtp.csv', delimiter = ',', usecols = (0, 1, 2), unpack = True)\n",
    "\n",
    "\n",
    "r039 = np.sqrt(x039**2 + y039**2 + z039**2)\n",
    "rjup039 = r039 / 71492.0\n",
    "theta039 = np.arccos(z039/r039) * (360 / (2*np.pi))\n",
    "phi039 = np.arctan2(y039,x039) * (360 / (2*np.pi)) \n",
    "bmag039 = np.sqrt(br039**2 + btheta039**2 + bphi039**2)\n",
    "\n",
    "for i in range(len(phi039)):\n",
    "    if phi039[i] < 0.0:\n",
    "        phi039[i] = phi039[i] + 360.0\n",
    "        \n",
    "ind039 = np.where(rjup039 <= 40.0)\n",
    "\n",
    "rjup039n = np.ones(len(ind039[0]))\n",
    "theta039n = np.ones(len(ind039[0]))\n",
    "phi039n = np.ones(len(ind039[0]))\n",
    "doy039n = np.ones(len(ind039[0]))\n",
    "bmag039n = np.ones(len(ind039[0]))\n",
    "br039n = np.ones(len(ind039[0]))\n",
    "btheta039n = np.ones(len(ind039[0]))\n",
    "bphi039n = np.ones(len(ind039[0]))\n",
    "\n",
    "\n",
    "for i in range(len(ind039[0])):\n",
    "    rjup039n[i] = rjup039[ind039[0][i]]\n",
    "    theta039n[i] = theta039[ind039[0][i]]\n",
    "    phi039n[i] = phi039[ind039[0][i]]\n",
    "    doy039n[i] = doy039[ind039[0][i]]\n",
    "    bmag039n[i] = bmag039[ind039[0][i]]\n",
    "    br039n[i] = br039[ind039[0][i]]\n",
    "    btheta039n[i] = btheta039[ind039[0][i]]\n",
    "    bphi039n[i] = bphi039[ind039[0][i]]\n",
    "    \n",
    "print len(phi039n)\n",
    "\n",
    "modbmag039, modbr039, modbtheta039, modbphi039 = np.loadtxt('039JRM09magB.csv', skiprows = 0, delimiter = ',', usecols = (0, 1, 2, 3), unpack = True)"
   ]
  },
  {
   "cell_type": "code",
   "execution_count": 14,
   "metadata": {
    "collapsed": true
   },
   "outputs": [],
   "source": [
    "plt.scatter(doy035n, bmag035n, s = 1, color = 'red', marker = '.', label = 'Collected Data')\n",
    "plt.scatter(doy035n, modbmag035, s = 1, color = 'blue', marker = '.', label = 'Model Prediction')\n",
    "plt.scatter(doy036n, bmag036n, s = 1, color = 'red', marker = '.')\n",
    "plt.scatter(doy036n, modbmag036, s = 1, color = 'blue', marker = '.')\n",
    "plt.scatter(doy037n, bmag037n, s = 1, color = 'red', marker = '.')\n",
    "plt.scatter(doy037n, modbmag037, s = 1, color = 'blue', marker = '.')\n",
    "plt.scatter(doy039n, bmag039n, s = 1, color = 'red', marker = '.')\n",
    "plt.scatter(doy039n, modbmag039, s = 1, color = 'blue', marker = '.')\n",
    "plt.legend(loc = 'upper left')\n",
    "plt.yscale('log')\n",
    "plt.minorticks_on()\n",
    "plt.ylim((0.2, 800.0))\n",
    "plt.xlim((35.6, 40.2))\n",
    "plt.xlabel('Day of Year (2018)')\n",
    "plt.title('Magnetic Field vs Time')\n",
    "plt.ylabel('B-Field Magnitude (nT)')\n",
    "plt.savefig('mag field plot.png', dpi = 900)\n",
    "plt.cla()\n",
    "#This plots the b-field magnitude against day of year. As can be seen, each day's data is added to the plot individually.\n",
    "#Make sure to adjust the x and y limits as needed, in the xlim and ylim parameters."
   ]
  },
  {
   "cell_type": "code",
   "execution_count": 38,
   "metadata": {
    "collapsed": false
   },
   "outputs": [],
   "source": [
    "plt.scatter(rjup035n, bmag035n, s = 1, color = 'red', marker = '.', label = 'Collected Data')\n",
    "plt.scatter(rjup035n, modbmag035, s = 1, color = 'blue', marker = '.', label = 'Model Prediction')\n",
    "plt.scatter(rjup036n, bmag036n, s = 1, color = 'red', marker = '.')\n",
    "plt.scatter(rjup036n, modbmag036, s = 1, color = 'blue', marker = '.')\n",
    "plt.scatter(rjup037n, bmag037n, s = 1, color = 'red', marker = '.')\n",
    "plt.scatter(rjup037n, modbmag037, s = 1, color = 'blue', marker = '.')\n",
    "plt.scatter(rjup039n, bmag039n, s = 1, color = 'orange', marker = '.', label = 'Data (Outbound)')\n",
    "plt.scatter(rjup039n, modbmag039, s = 1, color = 'purple', marker = '.', label = 'Model (Outbound)')\n",
    "plt.legend(loc = 'upper right')\n",
    "plt.yscale('log')\n",
    "plt.minorticks_on()\n",
    "plt.ylim((0.3, 700.0))\n",
    "plt.xlim((11.0, 41.0))\n",
    "plt.xlabel('Radial Distance (Jupiter Radii)')\n",
    "plt.title('Magnetic Field vs Distance')\n",
    "plt.ylabel('B-Field Magnitude (nT)')\n",
    "plt.savefig('mag field plot vs r.png', dpi = 900)\n",
    "plt.cla()\n",
    "#This plots magnitude against radial distance in Jupiter Radii."
   ]
  },
  {
   "cell_type": "code",
   "execution_count": 30,
   "metadata": {
    "collapsed": true
   },
   "outputs": [],
   "source": [
    "plt.scatter(doy035n, br035n, s = 1, color = 'red', marker = '.', label = 'Collected Data')\n",
    "plt.scatter(doy035n, modbr035, s = 1, color = 'blue', marker = '.', label = 'Model Prediction')\n",
    "plt.scatter(doy036n, br036n, s = 1, color = 'red', marker = '.')\n",
    "plt.scatter(doy036n, modbr036, s = 1, color = 'blue', marker = '.')\n",
    "plt.scatter(doy037n, br037n, s = 1, color = 'red', marker = '.')\n",
    "plt.scatter(doy037n, modbr037, s = 1, color = 'blue', marker = '.')\n",
    "plt.scatter(doy039n, br039n, s = 1, color = 'red', marker = '.')\n",
    "plt.scatter(doy039n, modbr039, s = 1, color = 'blue', marker = '.')\n",
    "plt.legend(loc = 'upper right')\n",
    "#plt.yscale('log')\n",
    "plt.minorticks_on()\n",
    "plt.ylim((-540.0, 200.0))\n",
    "plt.xlim((35.6, 40.2))\n",
    "plt.xlabel('Day of Year (2018)')\n",
    "plt.title('Magnetic Field vs Time')\n",
    "plt.ylabel('B-Field Magnitude (r component) (nT)')\n",
    "plt.savefig('mag field plot r comp.png', dpi = 900)\n",
    "plt.cla()\n",
    "#R-component of the field vs time."
   ]
  },
  {
   "cell_type": "code",
   "execution_count": 25,
   "metadata": {
    "collapsed": true
   },
   "outputs": [],
   "source": [
    "plt.scatter(doy035n, btheta035n, s = 1, color = 'red', marker = '.', label = 'Collected Data')\n",
    "plt.scatter(doy035n, modbtheta035, s = 1, color = 'blue', marker = '.', label = 'Model Prediction')\n",
    "plt.scatter(doy036n, btheta036n, s = 1, color = 'red', marker = '.')\n",
    "plt.scatter(doy036n, modbtheta036, s = 1, color = 'blue', marker = '.')\n",
    "plt.scatter(doy037n, btheta037n, s = 1, color = 'red', marker = '.')\n",
    "plt.scatter(doy037n, modbtheta037, s = 1, color = 'blue', marker = '.')\n",
    "plt.scatter(doy039n, btheta039n, s = 1, color = 'red', marker = '.')\n",
    "plt.scatter(doy039n, modbtheta039, s = 1, color = 'blue', marker = '.')\n",
    "plt.legend(loc = 'upper left')\n",
    "plt.yscale('log')\n",
    "plt.minorticks_on()\n",
    "plt.ylim((0.05, 200.0))\n",
    "plt.xlim((35.6, 40.2))\n",
    "plt.xlabel('Day of Year (2018)')\n",
    "plt.title('Magnetic Field vs Time')\n",
    "plt.ylabel('B-Field Magnitude (theta component) (nT)')\n",
    "plt.savefig('mag field plot theta comp.png', dpi = 900)\n",
    "plt.cla()\n",
    "#Theta-component of the field vs time."
   ]
  },
  {
   "cell_type": "code",
   "execution_count": 28,
   "metadata": {
    "collapsed": true
   },
   "outputs": [],
   "source": [
    "plt.scatter(doy035n, bphi035n, s = 1, color = 'red', marker = '.', label = 'Collected Data')\n",
    "plt.scatter(doy035n, modbphi035, s = 1, color = 'blue', marker = '.', label = 'Model Prediction')\n",
    "plt.scatter(doy036n, bphi036n, s = 1, color = 'red', marker = '.')\n",
    "plt.scatter(doy036n, modbphi036, s = 1, color = 'blue', marker = '.')\n",
    "plt.scatter(doy037n, bphi037n, s = 1, color = 'red', marker = '.')\n",
    "plt.scatter(doy037n, modbphi037, s = 1, color = 'blue', marker = '.')\n",
    "plt.scatter(doy039n, bphi039n, s = 1, color = 'red', marker = '.')\n",
    "plt.scatter(doy039n, modbphi039, s = 1, color = 'blue', marker = '.')\n",
    "plt.legend(loc = 'upper left')\n",
    "#plt.yscale('log')\n",
    "plt.minorticks_on()\n",
    "plt.ylim((-21.0, 30.0))\n",
    "plt.xlim((35.6, 40.2))\n",
    "plt.xlabel('Day of Year (2018)')\n",
    "plt.title('Magnetic Field vs Time')\n",
    "plt.ylabel('B-Field Magnitude (phi component) (nT)')\n",
    "plt.savefig('mag field plot phi comp.png', dpi = 900)\n",
    "plt.cla()\n",
    "#Phi-component of the field vs time."
   ]
  },
  {
   "cell_type": "code",
   "execution_count": 40,
   "metadata": {
    "collapsed": true
   },
   "outputs": [],
   "source": [
    "plt.scatter(rjup035n, br035n, s = 1, color = 'red', marker = '.', label = 'Collected Data')\n",
    "plt.scatter(rjup035n, modbr035, s = 1, color = 'blue', marker = '.', label = 'Model Prediction')\n",
    "plt.scatter(rjup036n, br036n, s = 1, color = 'red', marker = '.')\n",
    "plt.scatter(rjup036n, modbr036, s = 1, color = 'blue', marker = '.')\n",
    "plt.scatter(rjup037n, br037n, s = 1, color = 'red', marker = '.')\n",
    "plt.scatter(rjup037n, modbr037, s = 1, color = 'blue', marker = '.')\n",
    "plt.scatter(rjup039n, br039n, s = 1, color = 'orange', marker = '.', label = 'Data (Outbound)')\n",
    "plt.scatter(rjup039n, modbr039, s = 1, color = 'purple', marker = '.', label = 'Model (Outbound)')\n",
    "plt.legend(loc = 'lower right')\n",
    "#plt.yscale('log')\n",
    "plt.minorticks_on()\n",
    "plt.ylim((-530.0, 190.0))\n",
    "plt.xlim((11.0, 41.0))\n",
    "plt.xlabel('Radial Distance (Jupiter Radii)')\n",
    "plt.title('Magnetic Field vs Distance')\n",
    "plt.ylabel('B-Field Magnitude (r component) (nT)')\n",
    "plt.savefig('mag field plot vs r r comp.png', dpi = 900)\n",
    "plt.cla()\n",
    "#R-component of the field vs distance."
   ]
  },
  {
   "cell_type": "code",
   "execution_count": 41,
   "metadata": {
    "collapsed": true
   },
   "outputs": [],
   "source": [
    "plt.scatter(rjup035n, btheta035n, s = 1, color = 'red', marker = '.', label = 'Collected Data')\n",
    "plt.scatter(rjup035n, modbtheta035, s = 1, color = 'blue', marker = '.', label = 'Model Prediction')\n",
    "plt.scatter(rjup036n, btheta036n, s = 1, color = 'red', marker = '.')\n",
    "plt.scatter(rjup036n, modbtheta036, s = 1, color = 'blue', marker = '.')\n",
    "plt.scatter(rjup037n, btheta037n, s = 1, color = 'red', marker = '.')\n",
    "plt.scatter(rjup037n, modbtheta037, s = 1, color = 'blue', marker = '.')\n",
    "plt.scatter(rjup039n, btheta039n, s = 1, color = 'orange', marker = '.', label = 'Data (Outbound)')\n",
    "plt.scatter(rjup039n, modbtheta039, s = 1, color = 'purple', marker = '.', label = 'Model (Outbound)')\n",
    "plt.legend(loc = 'upper right')\n",
    "plt.yscale('log')\n",
    "plt.minorticks_on()\n",
    "plt.ylim((0.05, 200.0))\n",
    "plt.xlim((11.0, 41.0))\n",
    "plt.xlabel('Radial Distance (Jupiter Radii)')\n",
    "plt.title('Magnetic Field vs Distance')\n",
    "plt.ylabel('B-Field Magnitude (theta component) (nT)')\n",
    "plt.savefig('mag field plot vs r theta comp.png', dpi = 900)\n",
    "plt.cla()\n",
    "#theta-component of the field vs distance."
   ]
  },
  {
   "cell_type": "code",
   "execution_count": 42,
   "metadata": {
    "collapsed": true
   },
   "outputs": [],
   "source": [
    "plt.scatter(rjup035n, bphi035n, s = 1, color = 'red', marker = '.', label = 'Collected Data')\n",
    "plt.scatter(rjup035n, modbphi035, s = 1, color = 'blue', marker = '.', label = 'Model Prediction')\n",
    "plt.scatter(rjup036n, bphi036n, s = 1, color = 'red', marker = '.')\n",
    "plt.scatter(rjup036n, modbphi036, s = 1, color = 'blue', marker = '.')\n",
    "plt.scatter(rjup037n, bphi037n, s = 1, color = 'red', marker = '.')\n",
    "plt.scatter(rjup037n, modbphi037, s = 1, color = 'blue', marker = '.')\n",
    "plt.scatter(rjup039n, bphi039n, s = 1, color = 'orange', marker = '.', label = 'Data (Outbound)')\n",
    "plt.scatter(rjup039n, modbphi039, s = 1, color = 'purple', marker = '.', label = 'Model (Outbound)')\n",
    "plt.legend(loc = 'upper right')\n",
    "#plt.yscale('log')\n",
    "plt.minorticks_on()\n",
    "plt.ylim((-22.0, 29.0))\n",
    "plt.xlim((11.0, 41.0))\n",
    "plt.xlabel('Radial Distance (Jupiter Radii)')\n",
    "plt.title('Magnetic Field vs Distance')\n",
    "plt.ylabel('B-Field Magnitude (phi component) (nT)')\n",
    "plt.savefig('mag field plot vs r phi comp.png', dpi = 900)\n",
    "plt.cla()\n",
    "#Phi-component of the field vs distance."
   ]
  },
  {
   "cell_type": "code",
   "execution_count": 8,
   "metadata": {
    "collapsed": false
   },
   "outputs": [],
   "source": [
    "#This code allows you to align multiple plots in one image, and let them all have a consistent x-axis.\n",
    "#The first segment does magnitude and r-component. The second does theta and phi.\n",
    "#I initially tried to include all 4 in one multiplot, but the program wanted to put them in a 2x2 configuration,\n",
    "#whereas I wanted them all in a column. I found it's better to do 2 images then combine them in an image editor.\n",
    "axmag = plt.subplot(2, 1, 1)\n",
    "plt.scatter(rjup035n, bmag035n, s = 1, color = 'red', marker = '.')\n",
    "plt.scatter(rjup035n, modbmag035, s = 1, color = 'blue', marker = '.')\n",
    "plt.scatter(rjup036n, bmag036n, s = 1, color = 'red', marker = '.')\n",
    "plt.scatter(rjup036n, modbmag036, s = 1, color = 'blue', marker = '.')\n",
    "plt.scatter(rjup037n, bmag037n, s = 1, color = 'red', marker = '.')\n",
    "plt.scatter(rjup037n, modbmag037, s = 1, color = 'blue', marker = '.')\n",
    "plt.scatter(rjup039n, bmag039n, s = 1, color = 'orange', marker = '.')\n",
    "plt.scatter(rjup039n, modbmag039, s = 1, color = 'purple', marker = '.')\n",
    "#plt.legend(loc = 'upper right')\n",
    "plt.yscale('log')\n",
    "plt.minorticks_on()\n",
    "plt.ylim((0.3, 700.0))\n",
    "plt.xlim((11.0, 41.0))\n",
    "plt.title('Magnetic Field vs Distance')\n",
    "plt.ylabel('B-Field Magnitude (nT)')\n",
    "\n",
    "axr = plt.subplot(2, 1, 2, sharex = axmag)\n",
    "plt.scatter(rjup035n, br035n, s = 1, color = 'red', marker = '.', label = 'Collected Data')\n",
    "plt.scatter(rjup035n, modbr035, s = 1, color = 'blue', marker = '.', label = 'Model Prediction')\n",
    "plt.scatter(rjup036n, br036n, s = 1, color = 'red', marker = '.')\n",
    "plt.scatter(rjup036n, modbr036, s = 1, color = 'blue', marker = '.')\n",
    "plt.scatter(rjup037n, br037n, s = 1, color = 'red', marker = '.')\n",
    "plt.scatter(rjup037n, modbr037, s = 1, color = 'blue', marker = '.')\n",
    "plt.scatter(rjup039n, br039n, s = 1, color = 'orange', marker = '.', label = 'Data (Outbound)')\n",
    "plt.scatter(rjup039n, modbr039, s = 1, color = 'purple', marker = '.', label = 'Model (Outbound)')\n",
    "plt.legend(loc = 'lower right')\n",
    "#plt.yscale('log')\n",
    "plt.minorticks_on()\n",
    "plt.ylim((-530.0, 190.0))\n",
    "plt.xlim((11.0, 41.0))\n",
    "plt.ylabel('B-Field (r component) (nT)')\n",
    "plt.title('R-Component of Field')\n",
    "\n",
    "plt.savefig('multiplot vs r.png', dpi = 900)\n",
    "plt.cla()"
   ]
  },
  {
   "cell_type": "code",
   "execution_count": 6,
   "metadata": {
    "collapsed": true
   },
   "outputs": [],
   "source": [
    "axtheta = plt.subplot(2, 1, 1)\n",
    "plt.scatter(rjup035n, btheta035n, s = 1, color = 'red', marker = '.', label = 'Collected Data')\n",
    "plt.scatter(rjup035n, modbtheta035, s = 1, color = 'blue', marker = '.', label = 'Model Prediction')\n",
    "plt.scatter(rjup036n, btheta036n, s = 1, color = 'red', marker = '.')\n",
    "plt.scatter(rjup036n, modbtheta036, s = 1, color = 'blue', marker = '.')\n",
    "plt.scatter(rjup037n, btheta037n, s = 1, color = 'red', marker = '.')\n",
    "plt.scatter(rjup037n, modbtheta037, s = 1, color = 'blue', marker = '.')\n",
    "plt.scatter(rjup039n, btheta039n, s = 1, color = 'orange', marker = '.', label = 'Data (Outbound)')\n",
    "plt.scatter(rjup039n, modbtheta039, s = 1, color = 'purple', marker = '.', label = 'Model (Outbound)')\n",
    "plt.legend(loc = 'lower left')\n",
    "plt.yscale('log')\n",
    "plt.minorticks_on()\n",
    "plt.ylim((0.05, 200.0))\n",
    "plt.xlim((11.0, 41.0))\n",
    "plt.title('Theta-component of Field')\n",
    "plt.ylabel('B-Field (theta component) (nT)')\n",
    "\n",
    "axphi = plt.subplot(2, 1, 2, sharex = axtheta)\n",
    "plt.scatter(rjup035n, bphi035n, s = 1, color = 'red', marker = '.', label = 'Collected Data')\n",
    "plt.scatter(rjup035n, modbphi035, s = 1, color = 'blue', marker = '.', label = 'Model Prediction')\n",
    "plt.scatter(rjup036n, bphi036n, s = 1, color = 'red', marker = '.')\n",
    "plt.scatter(rjup036n, modbphi036, s = 1, color = 'blue', marker = '.')\n",
    "plt.scatter(rjup037n, bphi037n, s = 1, color = 'red', marker = '.')\n",
    "plt.scatter(rjup037n, modbphi037, s = 1, color = 'blue', marker = '.')\n",
    "plt.scatter(rjup039n, bphi039n, s = 1, color = 'orange', marker = '.', label = 'Data (Outbound)')\n",
    "plt.scatter(rjup039n, modbphi039, s = 1, color = 'purple', marker = '.', label = 'Model (Outbound)')\n",
    "#plt.legend(loc = 'upper right')\n",
    "#plt.yscale('log')\n",
    "plt.minorticks_on()\n",
    "plt.ylim((-22.0, 29.0))\n",
    "plt.xlim((11.0, 41.0))\n",
    "plt.xlabel('Radial Distance (Jupiter Radii)')\n",
    "plt.title('Phi-component of Field')\n",
    "plt.ylabel('B-Field (phi component) (nT)')\n",
    "\n",
    "plt.savefig('muliplot vs r 2.png', dpi = 900)\n",
    "plt.cla()"
   ]
  },
  {
   "cell_type": "code",
   "execution_count": 7,
   "metadata": {
    "collapsed": true
   },
   "outputs": [],
   "source": [
    "axmag = plt.subplot(2, 1, 1)\n",
    "plt.scatter(doy035n, bmag035n, s = 1, color = 'red', marker = '.', label = 'Collected Data')\n",
    "plt.scatter(doy035n, modbmag035, s = 1, color = 'blue', marker = '.', label = 'Model Prediction')\n",
    "plt.scatter(doy036n, bmag036n, s = 1, color = 'red', marker = '.')\n",
    "plt.scatter(doy036n, modbmag036, s = 1, color = 'blue', marker = '.')\n",
    "plt.scatter(doy037n, bmag037n, s = 1, color = 'red', marker = '.')\n",
    "plt.scatter(doy037n, modbmag037, s = 1, color = 'blue', marker = '.')\n",
    "plt.scatter(doy039n, bmag039n, s = 1, color = 'orange', marker = '.', label = 'Data (Outbound)')\n",
    "plt.scatter(doy039n, modbmag039, s = 1, color = 'purple', marker = '.', label = 'Model (Outbound)')\n",
    "#plt.legend(loc = 'upper right')\n",
    "plt.yscale('log')\n",
    "plt.minorticks_on()\n",
    "plt.ylim((0.3, 700.0))\n",
    "plt.xlim((35.6, 40.1))\n",
    "plt.title('Magnetic Field vs time')\n",
    "plt.ylabel('B-Field Magnitude (nT)')\n",
    "\n",
    "axr = plt.subplot(2, 1, 2, sharex = axmag)\n",
    "plt.scatter(doy035n, br035n, s = 1, color = 'red', marker = '.', label = 'Collected Data')\n",
    "plt.scatter(doy035n, modbr035, s = 1, color = 'blue', marker = '.', label = 'Model Prediction')\n",
    "plt.scatter(doy036n, br036n, s = 1, color = 'red', marker = '.')\n",
    "plt.scatter(doy036n, modbr036, s = 1, color = 'blue', marker = '.')\n",
    "plt.scatter(doy037n, br037n, s = 1, color = 'red', marker = '.')\n",
    "plt.scatter(doy037n, modbr037, s = 1, color = 'blue', marker = '.')\n",
    "plt.scatter(doy039n, br039n, s = 1, color = 'orange', marker = '.', label = 'Data (Outbound)')\n",
    "plt.scatter(doy039n, modbr039, s = 1, color = 'purple', marker = '.', label = 'Model (Outbound)')\n",
    "plt.legend(loc = 'lower left')\n",
    "#plt.yscale('log')\n",
    "plt.minorticks_on()\n",
    "plt.ylim((-530.0, 190.0))\n",
    "plt.xlim((35.6, 40.1))\n",
    "plt.ylabel('B-Field (r component) (nT)')\n",
    "plt.title('R-Component of Field')\n",
    "\n",
    "plt.savefig('multiplot vs t.png', dpi = 900)\n",
    "plt.cla()"
   ]
  },
  {
   "cell_type": "code",
   "execution_count": 6,
   "metadata": {
    "collapsed": true
   },
   "outputs": [],
   "source": [
    "axtheta = plt.subplot(2, 1, 1)\n",
    "plt.scatter(doy035n, btheta035n, s = 1, color = 'red', marker = '.', label = 'Collected Data')\n",
    "plt.scatter(doy035n, modbtheta035, s = 1, color = 'blue', marker = '.', label = 'Model Prediction')\n",
    "plt.scatter(doy036n, btheta036n, s = 1, color = 'red', marker = '.')\n",
    "plt.scatter(doy036n, modbtheta036, s = 1, color = 'blue', marker = '.')\n",
    "plt.scatter(doy037n, btheta037n, s = 1, color = 'red', marker = '.')\n",
    "plt.scatter(doy037n, modbtheta037, s = 1, color = 'blue', marker = '.')\n",
    "plt.scatter(doy039n, btheta039n, s = 1, color = 'orange', marker = '.', label = 'Data (Outbound)')\n",
    "plt.scatter(doy039n, modbtheta039, s = 1, color = 'purple', marker = '.', label = 'Model (Outbound)')\n",
    "#plt.legend(loc = 'lower left')\n",
    "plt.yscale('log')\n",
    "plt.minorticks_on()\n",
    "plt.ylim((0.05, 200.0))\n",
    "plt.xlim((35.6, 40.1))\n",
    "plt.title('Theta-component of Field')\n",
    "plt.ylabel('B-Field (theta component) (nT)')\n",
    "\n",
    "axphi = plt.subplot(2, 1, 2, sharex = axtheta)\n",
    "plt.scatter(doy035n, bphi035n, s = 1, color = 'red', marker = '.', label = 'Collected Data')\n",
    "plt.scatter(doy035n, modbphi035, s = 1, color = 'blue', marker = '.', label = 'Model Prediction')\n",
    "plt.scatter(doy036n, bphi036n, s = 1, color = 'red', marker = '.')\n",
    "plt.scatter(doy036n, modbphi036, s = 1, color = 'blue', marker = '.')\n",
    "plt.scatter(doy037n, bphi037n, s = 1, color = 'red', marker = '.')\n",
    "plt.scatter(doy037n, modbphi037, s = 1, color = 'blue', marker = '.')\n",
    "plt.scatter(doy039n, bphi039n, s = 1, color = 'orange', marker = '.', label = 'Data (Outbound)')\n",
    "plt.scatter(doy039n, modbphi039, s = 1, color = 'purple', marker = '.', label = 'Model (Outbound)')\n",
    "#plt.legend(loc = 'upper right')\n",
    "#plt.yscale('log')\n",
    "plt.minorticks_on()\n",
    "plt.ylim((-22.0, 29.0))\n",
    "plt.xlim((35.6, 40.1))\n",
    "plt.xlabel('Day of Year 2018')\n",
    "plt.title('Phi-component of Field')\n",
    "plt.ylabel('B-Field (phi component) (nT)')\n",
    "\n",
    "plt.savefig('muliplot vs t 2.png', dpi = 900)\n",
    "plt.cla()"
   ]
  },
  {
   "cell_type": "code",
   "execution_count": null,
   "metadata": {
    "collapsed": true
   },
   "outputs": [],
   "source": []
  }
 ],
 "metadata": {
  "kernelspec": {
   "display_name": "Python 2",
   "language": "python",
   "name": "python2"
  },
  "language_info": {
   "codemirror_mode": {
    "name": "ipython",
    "version": 2
   },
   "file_extension": ".py",
   "mimetype": "text/x-python",
   "name": "python",
   "nbconvert_exporter": "python",
   "pygments_lexer": "ipython2",
   "version": "2.7.13"
  }
 },
 "nbformat": 4,
 "nbformat_minor": 0
}
