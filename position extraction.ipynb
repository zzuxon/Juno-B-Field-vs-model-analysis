{
 "cells": [
  {
   "cell_type": "code",
   "execution_count": 1,
   "metadata": {
    "collapsed": true
   },
   "outputs": [],
   "source": [
    "#Comments part of \"Comparing Juno’s Magnetic Field Measurements to existing models: The code pipeline tutorial.\" by Cooper Wooten.\n",
    "#Code also by Cooper Wooten.\n",
    "import numpy as np\n",
    "import matplotlib.pyplot as plt\n",
    "import csv\n",
    "#Importing relevant packages."
   ]
  },
  {
   "cell_type": "code",
   "execution_count": 17,
   "metadata": {
    "collapsed": false
   },
   "outputs": [
    {
     "name": "stdout",
     "output_type": "stream",
     "text": [
      "114\n"
     ]
    }
   ],
   "source": [
    "skipcount = 0\n",
    "with open('fgm_jno_l3_2018039pc_r1s_v01.sts') as f:\n",
    "    for line in f:\n",
    "        if line[0:4] != '  20':\n",
    "            skipcount = skipcount + 1\n",
    "        else:\n",
    "            break\n",
    "print skipcount\n",
    "#The skipcounter returns."
   ]
  },
  {
   "cell_type": "code",
   "execution_count": 18,
   "metadata": {
    "collapsed": false
   },
   "outputs": [
    {
     "name": "stdout",
     "output_type": "stream",
     "text": [
      "86158\n"
     ]
    }
   ],
   "source": [
    "#This code block converts the xyz position values into r-theta-phi, or rtp, coordinates\n",
    "doy, x, y, z = np.loadtxt('fgm_jno_l3_2018039pc_r1s_v01.sts', skiprows = 114, usecols = (6, 11, 12, 13), unpack = True)\n",
    "#Use the code for each relevant file. Mind skiprows.\n",
    "r = np.sqrt(x**2 + y**2 + z**2)\n",
    "rjup = r / 71492.0\n",
    "theta = np.arccos(z/r) * (360 / (2*np.pi))\n",
    "phi = np.arctan2(y,x) * (360 / (2*np.pi)) \n",
    "\n",
    "for i in range(len(phi)):\n",
    "    if phi[i] < 0.0:\n",
    "        phi[i] = phi[i] + 360.0\n",
    "        \n",
    "ind = np.where(rjup <= 40.0)\n",
    "print len(ind[0]) #Here the list of relevant data points is made and counted."
   ]
  },
  {
   "cell_type": "code",
   "execution_count": 19,
   "metadata": {
    "collapsed": false
   },
   "outputs": [
    {
     "name": "stdout",
     "output_type": "stream",
     "text": [
      "86158\n"
     ]
    }
   ],
   "source": [
    "rn = np.ones(len(ind[0]))\n",
    "rjupn = np.ones(len(ind[0]))\n",
    "thetan = np.ones(len(ind[0]))\n",
    "phin = np.ones(len(ind[0]))\n",
    "#USE JUPITER RADII\n",
    "for i in range(len(ind[0])):\n",
    "    rn[i] = r[ind[0][i]]\n",
    "    rjupn[i] = rjup[ind[0][i]]\n",
    "    thetan[i] = theta[ind[0][i]]\n",
    "    phin[i] = phi[ind[0][i]] #This code block creates new variables only including points taken within 40 rJ.\n",
    "    \n",
    "print len(rn) #A simple check"
   ]
  },
  {
   "cell_type": "code",
   "execution_count": 20,
   "metadata": {
    "collapsed": true
   },
   "outputs": [],
   "source": [
    "with open ('039rtp.csv', mode = 'w') as rtpfile: #Make the 3 digit number the day of year of the file you're working with.\n",
    "    rtpwrite = csv.writer(rtpfile, delimiter=',', quotechar='\"', quoting=csv.QUOTE_MINIMAL)\n",
    "    for i in range(len(rn)):\n",
    "        rtpwrite.writerow([rjupn[i], thetan[i], phin[i]]) #This creates a csv file with the relevant position points in rtp.\n",
    "        #The rows are radius, theta, and phi from left to right."
   ]
  },
  {
   "cell_type": "code",
   "execution_count": null,
   "metadata": {
    "collapsed": true
   },
   "outputs": [],
   "source": []
  }
 ],
 "metadata": {
  "kernelspec": {
   "display_name": "Python 2",
   "language": "python",
   "name": "python2"
  },
  "language_info": {
   "codemirror_mode": {
    "name": "ipython",
    "version": 2
   },
   "file_extension": ".py",
   "mimetype": "text/x-python",
   "name": "python",
   "nbconvert_exporter": "python",
   "pygments_lexer": "ipython2",
   "version": "2.7.13"
  }
 },
 "nbformat": 4,
 "nbformat_minor": 0
}
