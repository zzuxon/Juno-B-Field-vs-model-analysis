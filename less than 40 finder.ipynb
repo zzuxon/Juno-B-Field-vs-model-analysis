{
 "cells": [
  {
   "cell_type": "code",
   "execution_count": 1,
   "metadata": {
    "collapsed": true
   },
   "outputs": [],
   "source": [
    "#Comments part of \"Comparing Juno’s Magnetic Field Measurements to existing models: The code pipeline tutorial.\" by Cooper Wooten.\n",
    "#Code also by Cooper Wooten.\n",
    "import numpy as np\n",
    "import matplotlib.pyplot as plt\n",
    "#Importing relevant packages."
   ]
  },
  {
   "cell_type": "code",
   "execution_count": 2,
   "metadata": {
    "collapsed": false
   },
   "outputs": [
    {
     "name": "stdout",
     "output_type": "stream",
     "text": [
      "114\n"
     ]
    }
   ],
   "source": [
    "#This piece of code will be seen again. \n",
    "#The files from the PDS-PPI homepage come with extensive headers that provide context for the data.\n",
    "#It is necessary to know how many lines must be ignored when the data is read into python. This code provides that info.\n",
    "skipcount = 0\n",
    "with open('fgm_jno_l3_2018041pc_r1s_v01.sts') as f: #Insert the file name of the data you wish to evaluate here\n",
    "    for line in f:\n",
    "        if line[0:4] != '  20':\n",
    "            skipcount = skipcount + 1\n",
    "        else:\n",
    "            break\n",
    "print skipcount\n"
   ]
  },
  {
   "cell_type": "code",
   "execution_count": 5,
   "metadata": {
    "collapsed": false
   },
   "outputs": [
    {
     "name": "stdout",
     "output_type": "stream",
     "text": [
      "0\n",
      "[]\n"
     ]
    }
   ],
   "source": [
    "#You now need to know which files contain data taken within 40 jupiter radii. This piece of code does this.\n",
    "x013, y013, z013 = np.loadtxt('fgm_jno_l3_2018013pc_r1s_v01.sts', skiprows = 115, usecols = (11, 12, 13), unpack = True)\n",
    "#Input your desired file's name. Don't forget to use the value found in the last code for the skiprows parameter.\n",
    "r013 = np.sqrt(x013**2 + y013**2 + z013**2) #finds the radius in km\n",
    "rjup013 = r013 / 71492.0 #converts the km to rJ.\n",
    "ind013 = np.where(rjup013 <= 40.0) #Creates a list of all points within 40 rJ.\n",
    "print len(ind013[0]) #Gives the number of points taken within 40 rJ. \n",
    "#If the number is 0, the file can be disregarded for the rest of the process. \n",
    "#If some but not all points qualify, continue to use that file, the rest of the code can accommodate the restriction.\n",
    "print ind013[0] #I included this to check that the code was working in the way I intended. It can be disregarded.\n",
    "#print ind013[0][0] #Same with this.\n",
    "#Repeat this process until you are confident you have identified the relevant days. \n",
    "#My trial and error process can be seen below."
   ]
  },
  {
   "cell_type": "code",
   "execution_count": 7,
   "metadata": {
    "collapsed": false
   },
   "outputs": [
    {
     "name": "stdout",
     "output_type": "stream",
     "text": [
      "0\n",
      "[]\n"
     ]
    }
   ],
   "source": [
    "x014, y014, z014 = np.loadtxt('fgm_jno_l3_2018014pc_r1s_v01.sts', skiprows = 115, usecols = (11, 12, 13), unpack = True)\n",
    "r014 = np.sqrt(x014**2 + y014**2 + z014**2)\n",
    "rjup014 = r014 / 71492.0\n",
    "ind014 = np.where(rjup014 <= 40.0)\n",
    "print len(ind014[0])\n",
    "print ind014[0]\n",
    "#print ind014[0][0]"
   ]
  },
  {
   "cell_type": "code",
   "execution_count": 8,
   "metadata": {
    "collapsed": false
   },
   "outputs": [
    {
     "name": "stdout",
     "output_type": "stream",
     "text": [
      "0\n",
      "[]\n"
     ]
    }
   ],
   "source": [
    "x015, y015, z015 = np.loadtxt('fgm_jno_l3_2018015pc_r1s_v01.sts', skiprows = 115, usecols = (11, 12, 13), unpack = True)\n",
    "r015 = np.sqrt(x015**2 + y015**2 + z015**2)\n",
    "rjup015 = r015 / 71492.0\n",
    "ind015 = np.where(rjup015 <= 40.0)\n",
    "print len(ind015[0])\n",
    "print ind015[0]\n",
    "#print ind015[0][0]"
   ]
  },
  {
   "cell_type": "code",
   "execution_count": 9,
   "metadata": {
    "collapsed": false
   },
   "outputs": [
    {
     "name": "stdout",
     "output_type": "stream",
     "text": [
      "0\n",
      "[]\n"
     ]
    }
   ],
   "source": [
    "x025, y025, z025 = np.loadtxt('fgm_jno_l3_2018025pc_r1s_v01.sts', skiprows = 115, usecols = (11, 12, 13), unpack = True)\n",
    "r025 = np.sqrt(x025**2 + y025**2 + z025**2)\n",
    "rjup025 = r025 / 71492.0\n",
    "ind025 = np.where(rjup025 <= 40.0)\n",
    "print len(ind025[0])\n",
    "print ind025[0]\n",
    "#print ind025[0][0]"
   ]
  },
  {
   "cell_type": "code",
   "execution_count": 4,
   "metadata": {
    "collapsed": false
   },
   "outputs": [
    {
     "name": "stdout",
     "output_type": "stream",
     "text": [
      "16024\n",
      "[69918 69919 69920 ..., 85939 85940 85941]\n"
     ]
    }
   ],
   "source": [
    "x035, y035, z035 = np.loadtxt('fgm_jno_l3_2018035pc_r1s_v01.sts', skiprows = 115, usecols = (11, 12, 13), unpack = True)\n",
    "r035 = np.sqrt(x035**2 + y035**2 + z035**2)\n",
    "rjup035 = r035 / 71492.0\n",
    "ind035 = np.where(rjup035 <= 40.0)\n",
    "print len(ind035[0])\n",
    "print ind035[0]\n",
    "#print ind035[0][0]"
   ]
  },
  {
   "cell_type": "code",
   "execution_count": 12,
   "metadata": {
    "collapsed": false
   },
   "outputs": [
    {
     "name": "stdout",
     "output_type": "stream",
     "text": [
      "86158\n",
      "[    0     1     2 ..., 86155 86156 86157]\n"
     ]
    }
   ],
   "source": [
    "x039, y039, z039 = np.loadtxt('fgm_jno_l3_2018039pc_r1s_v01.sts', skiprows = 114, usecols = (11, 12, 13), unpack = True)\n",
    "r039 = np.sqrt(x039**2 + y039**2 + z039**2)\n",
    "rjup039 = r039 / 71492.0\n",
    "ind039 = np.where(rjup039 <= 40.0)\n",
    "print len(ind039[0])\n",
    "print ind039[0]\n",
    "#print ind039[0][0]\n",
    "\n",
    "#Here is where I found the relevant data. As can be seen below, I proceeded to check 34 and 40 before concluding I found\n",
    "#all relevant data. Knowing which files are relevant, "
   ]
  },
  {
   "cell_type": "code",
   "execution_count": 9,
   "metadata": {
    "collapsed": false
   },
   "outputs": [
    {
     "name": "stdout",
     "output_type": "stream",
     "text": [
      "0\n",
      "[]\n"
     ]
    }
   ],
   "source": [
    "x034, y034, z034 = np.loadtxt('fgm_jno_l3_2018034pc_r1s_v01.sts', skiprows = 115, usecols = (11, 12, 13), unpack = True)\n",
    "r034 = np.sqrt(x034**2 + y034**2 + z034**2)\n",
    "rjup034 = r034 / 71492.0\n",
    "ind034 = np.where(rjup034 <= 40.0)\n",
    "print len(ind034[0])\n",
    "print ind034[0]\n",
    "#print ind034[0][0]"
   ]
  },
  {
   "cell_type": "code",
   "execution_count": 5,
   "metadata": {
    "collapsed": false
   },
   "outputs": [
    {
     "name": "stdout",
     "output_type": "stream",
     "text": [
      "0\n",
      "[]\n"
     ]
    }
   ],
   "source": [
    "x040, y040, z040 = np.loadtxt('fgm_jno_l3_2018040pc_r1s_v01.sts', skiprows = 114, usecols = (11, 12, 13), unpack = True)\n",
    "r040 = np.sqrt(x040**2 + y040**2 + z040**2)\n",
    "rjup040 = r040 / 71492.0\n",
    "ind040 = np.where(rjup040 <= 40.0)\n",
    "print len(ind040[0])\n",
    "print ind040[0]\n",
    "#print ind040[0][0]"
   ]
  },
  {
   "cell_type": "code",
   "execution_count": 7,
   "metadata": {
    "collapsed": false
   },
   "outputs": [
    {
     "name": "stdout",
     "output_type": "stream",
     "text": [
      "0\n",
      "[]\n"
     ]
    }
   ],
   "source": [
    "x061, y061, z061 = np.loadtxt('fgm_jno_l3_2018061pc_r1s_v01.sts', skiprows = 114, usecols = (11, 12, 13), unpack = True)\n",
    "r061 = np.sqrt(x061**2 + y061**2 + z061**2)\n",
    "rjup061 = r061 / 71492.0\n",
    "ind061 = np.where(rjup061 <= 40.0)\n",
    "print len(ind061[0])\n",
    "print ind061[0]\n",
    "#print ind061[0][0]"
   ]
  },
  {
   "cell_type": "code",
   "execution_count": null,
   "metadata": {
    "collapsed": true
   },
   "outputs": [],
   "source": []
  }
 ],
 "metadata": {
  "kernelspec": {
   "display_name": "Python 2",
   "language": "python",
   "name": "python2"
  },
  "language_info": {
   "codemirror_mode": {
    "name": "ipython",
    "version": 2
   },
   "file_extension": ".py",
   "mimetype": "text/x-python",
   "name": "python",
   "nbconvert_exporter": "python",
   "pygments_lexer": "ipython2",
   "version": "2.7.13"
  }
 },
 "nbformat": 4,
 "nbformat_minor": 0
}
